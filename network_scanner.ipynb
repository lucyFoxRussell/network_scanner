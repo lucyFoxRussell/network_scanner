{
 "cells": [
  {
   "attachments": {},
   "cell_type": "markdown",
   "id": "0912fee6-03df-4270-8e41-e11af2f84b38",
   "metadata": {
    "scrolled": true
   },
   "source": [
    "# Port Scanning Project Breakdown\n",
    "\n",
    "This Python script performs a port scanning operation across the entire range of TCP ports (1 to 65535) on a target host. Below is a step-by-step breakdown of the main components of the project, along with the relevant code.\n",
    "\n",
    "The following are the steps I took to build out this project:\n",
    "<br>Step 1: Import required modules\n",
    "<br>Step 2: Command-Line Argument Handling\n",
    "<br>Step 3: Hostname Resolution\n",
    "<br>Step 4: Scan Banner and Timing\n",
    "<br>Step 5: Multithreading\n",
    "<br>Step 6: scan_port Function\n",
    "<br>Step 7: Thread Joining\n",
    "<br>Step 8: Error and Interrupt Handling\n",
    "<br>Step 9: Completion Message"
   ]
  },
  {
   "attachments": {},
   "cell_type": "markdown",
   "id": "c11c341c-8fe7-43d6-8271-177af34c12a9",
   "metadata": {},
   "source": [
    "## 1. Project Setup"
   ]
  },
  {
   "cell_type": "code",
   "execution_count": 11,
   "id": "638c82ad-1d1a-4408-8af4-729ca31f561a",
   "metadata": {},
   "outputs": [],
   "source": [
    "import sys\n",
    "import socket\n",
    "from datetime import datetime\n",
    "import threading"
   ]
  },
  {
   "attachments": {},
   "cell_type": "markdown",
   "id": "0b237356-b65c-4570-aaae-9a3c5ce6540d",
   "metadata": {},
   "source": [
    "## 2. Command-Line Argument Handling\n",
    "\n",
    "The script expects exactly one argument: the target hostname or IP address. If the user provides an invalid number of arguments, it prints usage information and exits."
   ]
  },
  {
   "cell_type": "code",
   "execution_count": 12,
   "id": "21b8f493-883c-4d0e-9a9b-be792801e129",
   "metadata": {},
   "outputs": [
    {
     "name": "stdout",
     "output_type": "stream",
     "text": [
      "Invalid number of arguments.\n",
      "Usage: python.exe scanner.py <target>\n"
     ]
    },
    {
     "ename": "SystemExit",
     "evalue": "1",
     "output_type": "error",
     "traceback": [
      "An exception has occurred, use %tb to see the full traceback.\n",
      "\u001b[0;31mSystemExit\u001b[0m\u001b[0;31m:\u001b[0m 1\n"
     ]
    }
   ],
   "source": [
    "if len(sys.argv) == 2:\n",
    "    target = sys.argv[1]\n",
    "else:\n",
    "    print(\"Invalid number of arguments.\")\n",
    "    print(\"Usage: python.exe scanner.py <target>\")\n",
    "    sys.exit(1)"
   ]
  },
  {
   "attachments": {},
   "cell_type": "markdown",
   "id": "acd7645f-5703-4a65-8149-4bf5d152d49d",
   "metadata": {},
   "source": [
    "## 3. Hostname Resolution\n",
    "\n",
    "It uses socket.gethostbyname(target) to resolve the given hostname into an IP address. If the resolution fails (i.e., socket.gaierror), the script prints an error and exits."
   ]
  },
  {
   "cell_type": "code",
   "execution_count": null,
   "id": "925492af-526a-4af2-a96f-c99c26d494e2",
   "metadata": {},
   "outputs": [],
   "source": [
    "# Input local host of target = \"127.0.0.1 as user input not possible in this notebook.\"\n",
    "\n",
    "try:\n",
    "    target_ip = socket.gethostbyname(\"127.0.0.1\")\n",
    "except socket.gaierror:\n",
    "    print(f\"Error: Unable to resolve hostname {target}\")\n",
    "    sys.exit(1)"
   ]
  },
  {
   "attachments": {},
   "cell_type": "markdown",
   "id": "e77fcbdd-9fe4-44ca-abab-cd9d78bdde1e",
   "metadata": {},
   "source": [
    "## 4. Scan Banner and Timing\n",
    "\n",
    "Before starting the scan, the code prints a banner with the target IP address and the current time. This is purely informational and helps track when the scan began."
   ]
  },
  {
   "cell_type": "code",
   "execution_count": null,
   "id": "238fa3d7-a752-4d5d-9590-fb625d455593",
   "metadata": {},
   "outputs": [],
   "source": [
    "print(\"-\" * 50)\n",
    "print(f\"Scanning target {target_ip}\")\n",
    "print(f\"Time started: {datetime.now()}\")\n",
    "print(\"-\" * 50)"
   ]
  },
  {
   "attachments": {},
   "cell_type": "markdown",
   "id": "a957f39a-127a-4790-90a4-04f38b6a95d5",
   "metadata": {
    "jp-MarkdownHeadingCollapsed": true
   },
   "source": [
    "## 5. Multithreading\n",
    "\n",
    "The script creates a thread for each port in the range 1 to 65535. Each thread runs the scan_port(target_ip, port) function, allowing ports to be probed concurrently. This significantly speeds up the scan compared to a single-threaded approach."
   ]
  },
  {
   "cell_type": "code",
   "execution_count": null,
   "id": "9171615f-6fd1-4384-8c8b-de5a5dbb662a",
   "metadata": {},
   "outputs": [],
   "source": [
    "threads = []\n",
    "for port in range(1, 65536):\n",
    "    thread = threading.Thread(target=scan_port, args=(target_ip, port))\n",
    "    threads.append(thread)\n",
    "    thread.start()\n",
    "\n",
    "for thread in threads:\n",
    "    thread.join()\n"
   ]
  },
  {
   "attachments": {},
   "cell_type": "markdown",
   "id": "38b5553d-45bb-4063-acaf-7991040be2cc",
   "metadata": {},
   "source": [
    "## 6. scan_port Function\n",
    "\n",
    "The scan_port function creates a TCP socket and attempts to connect to the target IP on a specific port using socket.connect_ex. If connect_ex returns 0, the connection succeeded, indicating that the port is open. The function prints a message if the port is open and closes the socket. It also handles any socket errors or unexpected exceptions."
   ]
  },
  {
   "cell_type": "code",
   "execution_count": null,
   "id": "1c7bac11-7821-4ad8-bebf-0b04b52c6c9f",
   "metadata": {},
   "outputs": [],
   "source": [
    "def scan_port(target, port):\n",
    "    try:\n",
    "        s = socket.socket(socket.AF_INET, socket.SOCK_STREAM)\n",
    "        s.settimeout(1)\n",
    "        result = s.connect_ex((target, port))\n",
    "        if result == 0:\n",
    "            print(f\"Port {port} is open\")\n",
    "        s.close()\n",
    "    except socket.error as e:\n",
    "        print(f\"Socket error on port {port}: {e}\")\n",
    "    except Exception as e:\n",
    "        print(f\"Unexpected error on port {port}: {e}\")"
   ]
  },
  {
   "attachments": {},
   "cell_type": "markdown",
   "id": "d1c8eea6-4cac-42c3-95d1-d9ef6eccd922",
   "metadata": {},
   "source": [
    "## 7. Thread Joining\n",
    "\n",
    "After starting all threads, the script waits for each to finish by calling thread.join(). This ensures the program doesn't exit prematurely before all port checks are complete."
   ]
  },
  {
   "cell_type": "code",
   "execution_count": null,
   "id": "ff042f59-9b0f-44ec-b228-08adadf4ee76",
   "metadata": {},
   "outputs": [],
   "source": [
    "for thread in threads:\n",
    "    thread.join()"
   ]
  },
  {
   "attachments": {},
   "cell_type": "markdown",
   "id": "352d8529-4bf0-4ee5-b7b3-ae069fdc38ac",
   "metadata": {},
   "source": [
    "## 8. Error and Interrupt Handling\n",
    "\n",
    "If the user interrupts the process with KeyboardInterrupt (Ctrl+C), the script will cleanly stop and exit. The script also handles serious socket errors, printing an error message before exiting."
   ]
  },
  {
   "cell_type": "code",
   "execution_count": null,
   "id": "edf20290-ab3d-429e-a449-e91cfa1f3160",
   "metadata": {},
   "outputs": [],
   "source": [
    "except KeyboardInterrupt:\n",
    "    print(\"\\nExiting program.\")\n",
    "    sys.exit(0)\n",
    "\n",
    "except socket.error as e:\n",
    "    print(f\"Socket error: {e}\")\n",
    "    sys.exit(1)"
   ]
  },
  {
   "attachments": {},
   "cell_type": "markdown",
   "id": "c60ca1b9-0d89-4d57-98e2-57445bcccdb3",
   "metadata": {},
   "source": [
    "## 9. Completion Message\n",
    "\n",
    "Once all threads have finished, the script prints \"Scan completed!\" to indicate that the entire port range has been probed."
   ]
  },
  {
   "cell_type": "code",
   "execution_count": null,
   "id": "764d19f9-5e4d-4c22-ab75-2464464cd453",
   "metadata": {},
   "outputs": [],
   "source": [
    "print(\"\\nScan completed!\")"
   ]
  },
  {
   "attachments": {},
   "cell_type": "markdown",
   "id": "44f73d9b-66c6-4cfa-bdcb-a501b3a21076",
   "metadata": {},
   "source": [
    "## What I Learned\n",
    "How to handle command-line arguments and validate them in Python.\n",
    "\n",
    "The basics of resolving domain names to IP addresses with socket.gethostbyname.\n",
    "\n",
    "The fundamentals of socket programming and how connect_ex can be used to check port availability.\n",
    "\n",
    "The power of multithreading to speed up tasks that involve many independent I/O operations.\n",
    "\n",
    "The importance of good error-handling practices for unexpected situations (network errors, user interrupts, etc.)."
   ]
  },
  {
   "attachments": {},
   "cell_type": "markdown",
   "id": "2f000e00-88a4-47a9-88ae-443e7b33a893",
   "metadata": {},
   "source": [
    "## Full Code\n",
    "Here is the full code that implements the entire port scanner:"
   ]
  },
  {
   "cell_type": "code",
   "execution_count": null,
   "id": "975e68e5-5f8b-474c-a588-74d1b874e392",
   "metadata": {},
   "outputs": [],
   "source": [
    "import sys\n",
    "import socket\n",
    "from datetime import datetime\n",
    "import threading\n",
    "\n",
    "# Function to scan a given port\n",
    "def scan_port(target, port):\n",
    "    try:\n",
    "        s = socket.socket(socket.AF_INET, socket.SOCK_STREAM)\n",
    "        s.settimeout(1)\n",
    "        result = s.connect_ex((target, port))\n",
    "        if result == 0:\n",
    "            print(f\"Port {port} is open\")\n",
    "        s.close()\n",
    "    except socket.error as e:\n",
    "        print(f\"Socket error on port {port}: {e}\")\n",
    "    except Exception as e:\n",
    "        print(f\"Unexpected error on port {port}: {e}\")\n",
    "\n",
    "def main():\n",
    "    if len(sys.argv) == 2:\n",
    "        target = sys.argv[1]\n",
    "    else:\n",
    "        print(\"Invalid number of arguments.\")\n",
    "        print(\"Usage: python.exe scanner.py <target>\")\n",
    "        sys.exit(1)\n",
    "    try:\n",
    "        target_ip = socket.gethostbyname(target)\n",
    "    except socket.gaierror:\n",
    "        print(f\"Error: Unable to resolve hostname {target}\")\n",
    "        sys.exit(1)\n",
    "\n",
    "    # Banner\n",
    "    print(\"-\" * 50)\n",
    "    print(f\"Scanning target {target_ip}\")\n",
    "    print(f\"Time started: {datetime.now()}\")\n",
    "    print(\"-\" * 50)\n",
    "\n",
    "    try:\n",
    "        # Multithreading to scan ports concurrently\n",
    "        threads = []\n",
    "        for port in range(1, 65536):\n",
    "            thread = threading.Thread(target=scan_port, args=(target_ip, port))\n",
    "            threads.append(thread)\n",
    "            thread.start()\n",
    "\n",
    "        for thread in threads:\n",
    "            thread.join()\n",
    "\n",
    "    except KeyboardInterrupt:\n",
    "        print(\"\\nExiting program.\")\n",
    "        sys.exit(0)\n",
    "\n",
    "    except socket.error as e:\n",
    "        print(f\"Socket error: {e}\")\n",
    "        sys.exit(1)\n",
    "\n",
    "    print(\"\\nScan completed!\")\n",
    "\n",
    "if __name__ == \"__main__\":\n",
    "    main()"
   ]
  }
 ],
 "metadata": {
  "kernelspec": {
   "display_name": "Python 3 (ipykernel)",
   "language": "python",
   "name": "python3"
  },
  "language_info": {
   "codemirror_mode": {
    "name": "ipython",
    "version": 3
   },
   "file_extension": ".py",
   "mimetype": "text/x-python",
   "name": "python",
   "nbconvert_exporter": "python",
   "pygments_lexer": "ipython3",
   "version": "3.12.1"
  }
 },
 "nbformat": 4,
 "nbformat_minor": 5
}
